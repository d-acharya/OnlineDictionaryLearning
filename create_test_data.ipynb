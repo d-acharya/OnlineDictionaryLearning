{
 "cells": [
  {
   "cell_type": "code",
   "execution_count": 1,
   "metadata": {
    "collapsed": false
   },
   "outputs": [
    {
     "name": "stdout",
     "output_type": "stream",
     "text": [
      "(20, 40)\n"
     ]
    },
    {
     "data": {
      "image/png": "[encoded data removed]",
      "text/plain": [
       "<matplotlib.figure.Figure at 0x104d50610>"
      ]
     },
     "metadata": {},
     "output_type": "display_data"
    }
   ],
   "source": [
    "import scipy\n",
    "from sklearn.preprocessing import normalize\n",
    "from sklearn.datasets.samples_generator import make_blobs\n",
    "import numpy as np\n",
    "#print randn(40,30)\n",
    "#print scipy.sparse.rand(30,30,density=0.01)\n",
    "D = 20\n",
    "K = 40\n",
    "X, _ = make_blobs(n_samples=K, centers=3, n_features=D)\n",
    "X = X.T\n",
    "#X = np.random.randn(D,K)\n",
    "#X = np.array([[1, 3, 1, 3],[-1,-1,3,3],[3,3,3,1]]).T.astype(float)\n",
    "normalize(X, norm='l2', axis=0, copy=False, return_norm=True)\n",
    "#print X.T\n",
    "np.savetxt('X_{}_{}'.format(D, K), X.T, delimiter=' ', fmt='%.5f')\n",
    "\n",
    "print X.shape\n",
    "import matplotlib.pyplot as plt\n",
    "plt.figure()\n",
    "plt.scatter(X[0,:], X[1,:])\n",
    "plt.show()"
   ]
  },
  {
   "cell_type": "code",
   "execution_count": 2,
   "metadata": {
    "collapsed": false
   },
   "outputs": [],
   "source": [
    "r = 2000\n",
    "beta = scipy.sparse.rand(K,r,density=0.2)\n",
    "y = (X * beta)\n",
    "np.savetxt('y_{}_{}'.format(D, r), y.T, delimiter=' ', fmt='%.5f')"
   ]
  },
  {
   "cell_type": "markdown",
   "metadata": {},
   "source": [
    "## use learned dictionary to solve the sparse coding, and calculate the error"
   ]
  },
  {
   "cell_type": "code",
   "execution_count": 5,
   "metadata": {
    "collapsed": false
   },
   "outputs": [
    {
     "name": "stdout",
     "output_type": "stream",
     "text": [
      "(1000, 40)\n",
      "[[ 0.     0.     0.    ...,  0.     0.     0.   ]\n",
      " [ 0.     0.    -2.198 ...,  0.     0.     0.983]\n",
      " [ 0.     0.     0.    ...,  0.866  0.     0.   ]\n",
      " ..., \n",
      " [ 0.     0.    -2.964 ...,  0.     0.     0.   ]\n",
      " [ 0.478 -0.106  0.    ...,  0.     0.     0.   ]\n",
      " [ 0.     0.    -0.382 ...,  0.     0.     0.   ]]\n",
      "0.0322930859717\n",
      "# nozero vector =  1000\n"
     ]
    }
   ],
   "source": [
    "from sklearn.decomposition import sparse_encode\n",
    "from sklearn.decomposition import DictionaryLearning, dict_learning_online\n",
    "alpha = 0.5\n",
    "#dl = DictionaryLearning(K, transform_algorithm='lars', alpha=alpha, transform_alpha=alpha, max_iter=500)\n",
    "#dl.fit(y[:,:r/2].T)\n",
    "#dictionary = dl.components_\n",
    "#code = sparse_encode(y[:,r/2:].T, dictionary, algorithm='lars', alpha=0.5)\n",
    "_, dictionary = dict_learning_online(y[:,:r/2].T, n_components=K, alpha=alpha, n_iter=500, dict_init=None, batch_size=1, shuffle=False, method='lars', inner_stats=None)\n",
    "code = sparse_encode(y[:,r/2:].T, dictionary, algorithm='lars', alpha=0.5)\n",
    "print code.shape\n",
    "np.set_printoptions(precision=3, suppress=True)\n",
    "print code\n",
    "\n",
    "recovery = code.dot(dictionary)\n",
    "print np.linalg.norm(recovery - y[:,r/2:].T)/sum(np.linalg.norm(y[:,r/2:], axis=0) > 0)\n",
    "print \"# nozero vector = \", sum(np.linalg.norm(y[:,r/2:], axis=0) > 0)"
   ]
  },
  {
   "cell_type": "markdown",
   "metadata": {},
   "source": [
    "## use true dictionary"
   ]
  },
  {
   "cell_type": "code",
   "execution_count": 6,
   "metadata": {
    "collapsed": false
   },
   "outputs": [
    {
     "name": "stdout",
     "output_type": "stream",
     "text": [
      "0.0606291698039\n"
     ]
    }
   ],
   "source": [
    "code = sparse_encode(y[:,r/2:].T, X.T, algorithm='lars', alpha=0.5)\n",
    "recovery = code.dot(X.T)\n",
    "print np.linalg.norm(recovery - y[:,r/2:].T)/sum(np.linalg.norm(y[:,r/2:], axis=0) > 0)"
   ]
  },
  {
   "cell_type": "markdown",
   "metadata": {},
   "source": [
    "## use random dictionary"
   ]
  },
  {
   "cell_type": "code",
   "execution_count": 7,
   "metadata": {
    "collapsed": false,
    "scrolled": true
   },
   "outputs": [
    {
     "name": "stdout",
     "output_type": "stream",
     "text": [
      "0.0813078790736\n"
     ]
    }
   ],
   "source": [
    "random_dict = np.random.randn(K, D)\n",
    "code = sparse_encode(y[:,r/2:].T, random_dict, algorithm='lars', alpha=0.5)\n",
    "recovery = code.dot(random_dict)\n",
    "print np.linalg.norm(recovery - y[:,r/2:].T)/sum(np.linalg.norm(y[:,r/2:], axis=0) > 0)"
   ]
  },
  {
   "cell_type": "code",
   "execution_count": 8,
   "metadata": {
    "collapsed": false
   },
   "outputs": [
    {
     "data": {
      "image/png": "[encoded data removed]",
      "text/plain": [
       "<matplotlib.figure.Figure at 0x108066f50>"
      ]
     },
     "metadata": {},
     "output_type": "display_data"
    }
   ],
   "source": [
    "X = dictionary.T\n",
    "plt.figure()\n",
    "plt.scatter(X[0,:], X[1,:])\n",
    "plt.show()"
   ]
  },
  {
   "cell_type": "code",
   "execution_count": null,
   "metadata": {
    "collapsed": true
   },
   "outputs": [],
   "source": []
  }
 ],
 "metadata": {
  "kernelspec": {
   "display_name": "Python 2",
   "language": "python",
   "name": "python2"
  },
  "language_info": {
   "codemirror_mode": {
    "name": "ipython",
    "version": 2
   },
   "file_extension": ".py",
   "mimetype": "text/x-python",
   "name": "python",
   "nbconvert_exporter": "python",
   "pygments_lexer": "ipython2",
   "version": "2.7.13"
  }
 },
 "nbformat": 4,
 "nbformat_minor": 1
}
